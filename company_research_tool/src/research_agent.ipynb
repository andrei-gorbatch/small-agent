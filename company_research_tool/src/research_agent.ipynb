{
 "cells": [
  {
   "cell_type": "code",
   "execution_count": 1,
   "metadata": {},
   "outputs": [],
   "source": [
    "import warnings\n",
    "\n",
    "warnings.filterwarnings(\"ignore\")\n",
    "\n",
    "import pandas as pd\n",
    "from agent import eresearcher"
   ]
  },
  {
   "cell_type": "code",
   "execution_count": 2,
   "metadata": {},
   "outputs": [],
   "source": [
    "MultiAgent = eresearcher()"
   ]
  },
  {
   "cell_type": "code",
   "execution_count": 3,
   "metadata": {},
   "outputs": [],
   "source": [
    "# Read the list of companies from input csv file\n",
    "filepath = \"../data/companies.csv\"\n",
    "companies = pd.read_csv(filepath)\n",
    "companies = companies[\"Company Name\"].tolist()"
   ]
  },
  {
   "cell_type": "code",
   "execution_count": null,
   "metadata": {},
   "outputs": [],
   "source": [
    "thread_id = 0\n",
    "list_of_companies = []\n",
    "for company in companies:\n",
    "    print(f\"Processing {company}\")\n",
    "    thread_id = thread_id + 1\n",
    "    task = company\n",
    "    thread = {\"configurable\": {\"thread_id\": f\"{thread_id}\"}}\n",
    "\n",
    "    # Run agent\n",
    "    result = MultiAgent.graph.invoke(\n",
    "        {\n",
    "            \"task\": task,\n",
    "            \"max_revisions\": 2,\n",
    "            \"revision_number\": 0,\n",
    "        },\n",
    "        thread,\n",
    "    )\n",
    "\n",
    "    # Get the data for the company\n",
    "    try:\n",
    "        company_data = result.get(\"draft\").dict()\n",
    "    except Exception as e:\n",
    "        print(f\"Skipping {company}: {e}\")\n",
    "    list_of_companies.append(company_data)\n",
    "\n",
    "# Save the data to a csv file\n",
    "df = pd.DataFrame(list_of_companies)\n",
    "df.to_csv(\"../data/companies_data.csv\", index=False)"
   ]
  },
  {
   "cell_type": "code",
   "execution_count": null,
   "metadata": {},
   "outputs": [],
   "source": []
  }
 ],
 "metadata": {
  "kernelspec": {
   "display_name": "agent-QHAvPeIl-py3.11",
   "language": "python",
   "name": "python3"
  },
  "language_info": {
   "codemirror_mode": {
    "name": "ipython",
    "version": 3
   },
   "file_extension": ".py",
   "mimetype": "text/x-python",
   "name": "python",
   "nbconvert_exporter": "python",
   "pygments_lexer": "ipython3",
   "version": "3.11.0"
  }
 },
 "nbformat": 4,
 "nbformat_minor": 2
}
