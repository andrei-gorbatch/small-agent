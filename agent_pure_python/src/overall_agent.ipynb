{
 "cells": [
  {
   "cell_type": "markdown",
   "metadata": {},
   "source": [
    "Quick notebook with a search agent implemented in pure python code"
   ]
  },
  {
   "cell_type": "code",
   "execution_count": 48,
   "metadata": {},
   "outputs": [],
   "source": [
    "import re\n",
    "\n",
    "from openai import OpenAI\n",
    "from search import google_search, get_text_from_url, get_csv_links_from_url\n",
    "from python_code import execute_python_code, download_csv_from_url\n",
    "from dotenv import load_dotenv\n",
    "\n",
    "_ = load_dotenv()"
   ]
  },
  {
   "cell_type": "code",
   "execution_count": 49,
   "metadata": {},
   "outputs": [],
   "source": [
    "client = OpenAI()"
   ]
  },
  {
   "cell_type": "code",
   "execution_count": null,
   "metadata": {},
   "outputs": [],
   "source": [
    "# test search\n",
    "google_search(\"list of big UK companies \")"
   ]
  },
  {
   "cell_type": "code",
   "execution_count": null,
   "metadata": {},
   "outputs": [],
   "source": [
    "# test get_text_from_url\n",
    "url = \"https://en.wikipedia.org/wiki/List_of_largest_companies_in_the_United_Kingdom\"\n",
    "get_text_from_url(url)\n",
    "# get_csv_links_from_url(url)"
   ]
  },
  {
   "cell_type": "code",
   "execution_count": null,
   "metadata": {},
   "outputs": [],
   "source": [
    "# test python exec\n",
    "execute_python_code(\"print('hello world')\")\n",
    "# download_csv_from_url(\"https://epoch.ai/data/epochdb/notable_ai_models.csv\")"
   ]
  },
  {
   "cell_type": "code",
   "execution_count": 53,
   "metadata": {},
   "outputs": [],
   "source": [
    "# Add known actions\n",
    "known_actions = {\n",
    "    \"google_search\": google_search,\n",
    "    \"download_webpage\": get_text_from_url,\n",
    "    \"find_csv_links\": get_csv_links_from_url,\n",
    "    \"download_csv_from_url\": download_csv_from_url,\n",
    "}"
   ]
  },
  {
   "cell_type": "code",
   "execution_count": 54,
   "metadata": {},
   "outputs": [],
   "source": [
    "# Define simple Agent class\n",
    "class Agent:\n",
    "    def __init__(self, system=\"\"):\n",
    "        self.system = system\n",
    "        self.messages = []\n",
    "        if self.system:\n",
    "            self.messages.append({\"role\": \"system\", \"content\": system})\n",
    "\n",
    "    def __call__(self, message):\n",
    "        self.messages.append({\"role\": \"user\", \"content\": message})\n",
    "        result = self.execute()\n",
    "        self.messages.append({\"role\": \"assistant\", \"content\": result})\n",
    "        return result\n",
    "\n",
    "    def execute(self):\n",
    "        completion = client.chat.completions.create(\n",
    "            model=\"gpt-4o\", temperature=0, messages=self.messages\n",
    "        )\n",
    "        return completion.choices[0].message.content"
   ]
  },
  {
   "cell_type": "code",
   "execution_count": 55,
   "metadata": {},
   "outputs": [],
   "source": [
    "# Agent prompt\n",
    "prompt = \"\"\"\n",
    "You run in a loop of Thought, Action, PAUSE, Observation.\n",
    "At the end of the loop you output an Answer\n",
    "Use Thought to describe your thoughts about the question you have been asked.\n",
    "Use Action to run one of the actions available to you - then return PAUSE.\n",
    "Observation will be the result of running those actions.\n",
    "\n",
    "Your available actions are:\n",
    "\n",
    "google_search:\n",
    "e.g. google_search: list of EU companies\n",
    "Does a google search and returns relevant information\n",
    "\n",
    "download_webpage: \n",
    "e.g. download_webpage: https://epoch.ai/data/notable-ai-models\n",
    "Returns the text content of the webpage\n",
    "\n",
    "Example session:\n",
    "\n",
    "Question: Find all UK companies that have a revenue over 1 billion pounds in 2023?\n",
    "Thought: I should look for the list of all big UK companies\n",
    "Action: google_search: list of big UK companies \n",
    "PAUSE\n",
    "\n",
    "You will be called again with this:\n",
    "\n",
    "Observation: {'https://en.wikipedia.org/wiki/List_of_largest_companies_in_the_United_Kingdom': 'This article lists the largest companies in the United Kingdom in terms of their revenue, net profit and total assets, according to the American business ...',\n",
    " 'https://builtin.com/articles/uk-largest-companies': \"UK's Largest Companies · Klaviyo · Navan · Shell Plc · Smartly · AVEVA · NBCUniversal · Kraft Heinz · Hsbc Bank Usa, N.A..\",\n",
    " 'https://companiesmarketcap.com/united-kingdom/largest-companies-in-the-uk-by-market-cap/': 'List of the largest UK companies by market capitalization, all rankings are updated daily.',}\n",
    "You then output:\n",
    "\n",
    "Thought: I should download the text content of the wikipedia page to find the list of all big UK companies\n",
    "Action: download_webpage: https://en.wikipedia.org/wiki/List_of_largest_companies_in_the_United_Kingdom\n",
    "PAUSE\n",
    "\n",
    "You will be called again with this:\n",
    "Observation: '\\n\\n\\n\\nList of largest companies in the United Kingdom - Wikipedia\\n\\n\\n\\n\\n\\n\\n\\n\\n\\n\\n\\n\\n\\n\\n\\n\\n\\n\\n\\n\\n\\n\\n\\n\\n\\n\\n\\nJump to content\\n\\n\\n\\n\\n\\n\\n\\nMain menu\\n\\n\\n\\n\\n\\nMain menu\\nmove to sidebar\\nhide\\n\\n\\n\\n\\t\\tNavigation\\n\\t\\n\\n\\nMain pageContentsCurrent eventsRandom articleAbout WikipediaContact us\\n\\n\\n\\n\\n\\n\\t\\tContribute\\n\\t\\n\\n\\nHelpLearn to editCommunity portalRecent changesUpload file\\n\\n\\n\\n\\n\\n\\n\\n\\n\\n\\n\\n\\n\\n\\n\\n\\n\\n\\n\\nSearch\\n\\n\\n\\n\\n\\n\\n\\n\\n\\n\\n\\nSearch\\n\\n\\n\\n\\n\\n\\n\\n\\n\\n\\n\\n\\n\\n\\n\\n\\n\\n\\n\\n\\n\\n\\nAppearance\\n\\n\\n\\n\\n\\n\\n\\n\\n\\n\\n\\n\\n\\n\\n\\n\\nDonate\\n\\nCreate account\\n\\nLog in\\n\\n\\n\\n\\n\\n\\n\\n\\nPersonal tools\\n\\n\\n\\n\\n\\nDonate Create account Log in\\n\\n\\n\\n\\n\\n\\t\\tPages for logged out editors learn more\\n\\n\\n\\nContributionsTalk\\n\\n\\n\\n\\n\\n\\n\\n\\n\\n\\n\\n\\n\\n\\n\\n\\n\\n\\n\\n\\n\\n\\n\\n\\n\\n\\n\\n\\nContents\\nmove to sidebar\\nhide\\n\\n\\n\\n\\n(Top)\\n\\n\\n\\n\\n\\n1\\n2024 Fortune 500:\\n\\n\\n\\n\\n\\n\\n\\n\\n2\\n2024 Forbes list\\n\\n\\n\\n\\n\\n\\n\\n\\n3\\nSee also\\n\\n\\n\\n\\n\\n\\n\\n\\n4\\nReferences\\n\\n\\n\\n\\n\\n\\n\\n\\n\\n\\n\\n\\n\\n\\n\\n\\n\\n\\nToggle the table of contents\\n\\n\\n\\n\\n\\n\\n\\nList of largest companies in the United Kingdom\\n\\n\\n\\n3 languages\\n\\n\\n\\n\\nالعربيةDeutschPortuguês\\n\\nEdit links\\n\\n\\n\\n\\n\\n\\n\\n\\n\\n\\n\\nArticleTalk\\n\\n\\n\\n\\n\\nEnglish\\n\\n\\n\\n\\n\\n\\n\\n\\n\\n\\n\\n\\n\\n\\n\\n\\n\\nReadEditView history\\n\\n\\n\\n\\n\\n\\n\\nTools\\n\\n\\n\\n\\n\\nTools\\nmove to sidebar\\nhide\\n\\n\\n\\n\\t\\tActions\\n\\t\\n\\n\\nReadEditView history\\n\\n\\n\\n\\n\\n\\t\\tGeneral\\n\\t\\n\\n\\nWhat links hereRelated changesUpload fileSpecial pagesPermanent linkPage informationCite this pageGet shortened URLDownload QR code\\n\\n\\n\\n\\n\\n\\t\\tPrint/export\\n\\t\\n\\n\\nDownload as PDFPrintable version\\n\\n\\n\\n\\n\\n\\t\\tIn other projects\\n\\t\\n\\n\\nWikidata item\\n\\n\\n\\n\\n\\n\\n\\n\\n\\n\\n\\n\\n\\n\\n\\n\\n\\n\\n\\n\\n\\nAppearance\\nmove to sidebar\\nhide\\n\\n\\n\\n\\n\\n\\n\\n\\n\\n\\nFrom Wikipedia, the free encyclopedia\\n\\n\\n\\nThis article lists the largest companies in the United Kingdom in terms of their revenue, net profit and total assets, according to the American business magazines Fortune and Forbes.\\n\\n\\n2024 Fortune 500:[edit]\\nThis list displays all British companies in the Fortune Global 500, which ranks the world\\'s largest companies by annual revenue. The figures below are given in millions of US dollars and are for the fiscal year 2023/24. Also listed are the headquarters location, net profit, number of employees worldwide and industry sector of each company.[1]\\n\\n\\n\\nRank\\n\\nFortune 500rank\\n\\nName\\n\\nIndustry\\n\\nRevenue(USD millions)\\n\\nProfits(USD millions)\\n\\nAssets(USD millions)\\n\\nEmployees\\n\\nHeadquarters\\n\\n\\n 1\\n\\n 13\\n\\nShell plc\\n\\nOil and Gas\\n\\n 323,183\\n\\n 19,359\\n\\n406,270\\n\\n103,000\\n\\nLondon\\n\\n\\n 2\\n\\n 25\\n\\nBP\\n\\nOil and Gas\\n\\n 213,032\\n\\n 15,239\\n\\n280,294\\n\\n79,400\\n\\nLondon\\n\\n\\n 3\\n\\n 67\\n\\nHSBC\\n\\nBanking\\n\\n 134,901\\n\\n 23,533\\n\\n3,038,677\\n\\n220,861\\n\\nLondon\\n\\n\\n 4\\n\\n 140\\n\\n\\nSee also[edit]\\nList of companies of the United Kingdom\\nList of largest private companies in the United Kingdom\\nList of largest companies by revenue\\nList of largest private non-governmental companies by revenue\\nReferences[edit]\\n\\n\\n^ \"Global 500\". Fortune. Retrieved 2022-08-28.\\n\\n^ Murphy, Andrea; Contreras, Isabel. \"The Global 2000\". Forbes. Retrieved 2022-08-28.\\n\\n\\n\\n\\n\\n\\nRetrieved from \"https://en.wikipedia.org/w/index.php?title=List_of_largest_companies_in_the_United_Kingdom&oldid=1270056181\"\\nCategories: Lists of largest private companies by countryEconomy of the United Kingdom-related listsWealth in the United KingdomLists of companies of the United KingdomUnited Kingdom-related lists of superlativesHidden categories: Articles with short descriptionShort description is different from Wikidata\\n\\n\\n\\n\\n\\n\\n This page was last edited on 17 January 2025, at 18:22\\xa0(UTC).\\nText is available under the Creative Commons Attribution-ShareAlike 4.0 License;\\nadditional terms may apply. By using this site, you agree to the Terms of Use and Privacy Policy. Wikipedia® is a registered trademark of the Wikimedia Foundation, Inc., a non-profit organization.\\n\\n\\nPrivacy policy\\nAbout Wikipedia\\nDisclaimers\\nContact Wikipedia\\nCode of Conduct\\nDevelopers\\nStatistics\\nCookie statement\\nMobile view\\n\\n\\n\\n\\n\\n\\n\\n\\n\\n\\n\\n\\n\\n\\nSearch\\n\\n\\n\\n\\n\\n\\n\\n\\n\\n\\n\\n\\n\\nSearch\\n\\n\\n\\n\\n\\n\\n\\n\\n\\nToggle the table of contents\\n\\n\\n\\n\\n\\n\\n\\nList of largest companies in the United Kingdom\\n\\n\\n\\n\\n\\n\\n\\n\\n\\n\\n\\n\\n\\n\\n\\n\\n\\n\\n\\n\\n\\n\\n\\n\\n\\n\\n\\n\\n3 languages\\n\\n\\nAdd topic\\n\\n\\n\\n\\n\\n\\n\\n\\n\\n\\n\\n\\n\\n\\n'\n",
    "You then output:\n",
    "\n",
    "Thought: Largest companies listed are Shell plc, BP, HSBC. I should search for the revenue of these companies. I will start with Shell plc.\n",
    "Action: google_search: revenue of Shell plc in 2023\n",
    "PAUSE\n",
    "\n",
    "You will be called again with this:\n",
    "Observation: Shell plc revenue in 2023: 1.2 billion pounds\n",
    "You then output:\n",
    "\n",
    "Thought: Shell plc has a revenue of 1.2 billion pounds in 2023. I will search for BP next.\n",
    "Action: google_search: revenue of BP in 2023\n",
    "PAUSE\n",
    "\n",
    "You will be called again with this:\n",
    "Observation: BP revenue in 2023: 0.9 billion pounds\n",
    "You then output:\n",
    "\n",
    "Thought: Shell plc has a revenue of 1.2 billion pounds in 2023, BP revenue is 0.9 billion pounds. I will search for HSBC next.\n",
    "Action: google_search: revenue of HSBC in 2023\n",
    "PAUSE\n",
    "\n",
    "You will be called again with this:\n",
    "Observation: HSBC revenue in 2023: 0.8 billion pounds\n",
    "You then output:\n",
    "\n",
    "Thought: Shell plc has a revenue of 1.2 billion pounds in 2023, BP revenue is 0.9 billion pounds, HSBC  as a revenue of 0.8 billion pounds. I will write python code to filter out companies with revenue over 1 billion pounds.\n",
    "Action: execute_python_code: companies = [\"Shell plc\", \"BP\", \"HSBC\"]; revenues = [1.2, 0.9, 0.8]; big_companies = [company for company, revenue in zip(companies, revenues) if revenue > 1]; big_companies\n",
    "PAUSE\n",
    "\n",
    "You will be called again with this:\n",
    "Observation: ['Shell plc']\n",
    "You then output:\n",
    "\n",
    "Answer: Shell plc is the only UK company with a revenue over 1 billion pounds in 2023. \n",
    "\n",
    "\"\"\".strip()"
   ]
  },
  {
   "cell_type": "code",
   "execution_count": 56,
   "metadata": {},
   "outputs": [],
   "source": [
    "abot = Agent(prompt)"
   ]
  },
  {
   "cell_type": "code",
   "execution_count": 57,
   "metadata": {},
   "outputs": [],
   "source": [
    "abot = Agent(prompt)\n",
    "action_re = re.compile(\n",
    "    \"^Action: (\\w+): (.*)$\"\n",
    ")  # python regular expression to selection action"
   ]
  },
  {
   "cell_type": "code",
   "execution_count": 58,
   "metadata": {},
   "outputs": [],
   "source": [
    "def query(question, max_turns=10):\n",
    "    i = 0\n",
    "    bot = Agent(prompt)\n",
    "    next_prompt = question\n",
    "    while i < max_turns:\n",
    "        i += 1\n",
    "        result = bot(next_prompt)\n",
    "        print(result)\n",
    "        actions = [action_re.match(a) for a in result.split(\"\\n\") if action_re.match(a)]\n",
    "        if actions:\n",
    "            # There is an action to run\n",
    "            action, action_input = actions[0].groups()\n",
    "            if action not in known_actions:\n",
    "                raise Exception(\"Unknown action: {}: {}\".format(action, action_input))\n",
    "            print(\" -- running {} {}\".format(action, action_input))\n",
    "            observation = known_actions[action](action_input)\n",
    "            print(\"Observation:\", observation)\n",
    "            next_prompt = \"Observation: {}\".format(observation)\n",
    "        else:\n",
    "            return"
   ]
  },
  {
   "cell_type": "code",
   "execution_count": null,
   "metadata": {},
   "outputs": [],
   "source": [
    "question = \"\"\"What are the best bars with live music in London?\"\"\"\n",
    "query(question)"
   ]
  },
  {
   "cell_type": "code",
   "execution_count": null,
   "metadata": {},
   "outputs": [],
   "source": []
  }
 ],
 "metadata": {
  "kernelspec": {
   "display_name": "agent-QHAvPeIl-py3.11",
   "language": "python",
   "name": "python3"
  },
  "language_info": {
   "codemirror_mode": {
    "name": "ipython",
    "version": 3
   },
   "file_extension": ".py",
   "mimetype": "text/x-python",
   "name": "python",
   "nbconvert_exporter": "python",
   "pygments_lexer": "ipython3",
   "version": "3.11.0"
  }
 },
 "nbformat": 4,
 "nbformat_minor": 2
}
